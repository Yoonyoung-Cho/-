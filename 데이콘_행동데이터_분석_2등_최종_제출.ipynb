{
  "nbformat": 4,
  "nbformat_minor": 0,
  "metadata": {
    "colab": {
      "name": "데이콘 행동데이터 분석 2등 최종 제출.ipynb",
      "provenance": []
    },
    "kernelspec": {
      "name": "python3",
      "display_name": "Python 3"
    }
  },
  "cells": [
    {
      "cell_type": "markdown",
      "metadata": {
        "id": "8lqyXK2Lhpzs",
        "colab_type": "text"
      },
      "source": [
        "# <b>월간 데이콘 3 게임 행동 데이터 분석\n",
        "\n",
        "-팀 : 도발하려던건 아니었습니다만-"
      ]
    },
    {
      "cell_type": "markdown",
      "metadata": {
        "id": "2a5GRCrbh3z1",
        "colab_type": "text"
      },
      "source": [
        "### <b>라이브러리 및 데이터"
      ]
    },
    {
      "cell_type": "code",
      "metadata": {
        "id": "0iK6Ou5Th7pX",
        "colab_type": "code",
        "colab": {}
      },
      "source": [
        "#### 라이브러리 설치"
      ],
      "execution_count": 0,
      "outputs": []
    },
    {
      "cell_type": "code",
      "metadata": {
        "id": "R-D1ngbehP6W",
        "colab_type": "code",
        "colab": {}
      },
      "source": [
        "import os                                            # 디렉토리 설정\n",
        "os.chdir(\"/content/gdrive/My Drive/starcraft/really_last\")\n",
        "import warnings                                      # 경고 메세지 무시\n",
        "warnings.filterwarnings('ignore')\n",
        "import pandas as pd                                  # 데이터 조작, 분석\n",
        "import numpy as np                                   # 행렬 연산\n",
        "import random                                        # 난수 생성\n",
        "random.seed(2020)\n",
        "random_seed = 2020\n",
        "import time                                          # 시간 측정\n",
        "import re                                            # 정규표현식\n",
        "\n",
        "from sklearn.model_selection import train_test_split # train, validation 데이터 나누기\n",
        "from sklearn import metrics                          # AUC 측정\n",
        "!pip install catboost\n",
        "from catboost import CatBoostClassifier, Pool        # CatBoost 모델링\n",
        "import lightgbm as lgb                               # lightGBM 모델링\n",
        "from sklearn.model_selection import KFold            # K-fold CV    \n",
        "!pip install bayesian-optimization\n",
        "from bayes_opt import BayesianOptimization           # 베이지안 최적화 라이브러리  \n",
        "from functools import partial                        # 함수 변수 고정"
      ],
      "execution_count": 0,
      "outputs": []
    },
    {
      "cell_type": "markdown",
      "metadata": {
        "id": "jw5cIi09hp32",
        "colab_type": "text"
      },
      "source": [
        "#### 데이터 불러오기"
      ]
    },
    {
      "cell_type": "code",
      "metadata": {
        "id": "XoFlxOZgiCMF",
        "colab_type": "code",
        "colab": {}
      },
      "source": [
        "train = pd.read_csv(\"train.csv\")\n",
        "test = pd.read_csv(\"test.csv\")"
      ],
      "execution_count": 0,
      "outputs": []
    },
    {
      "cell_type": "markdown",
      "metadata": {
        "id": "MJcLbqMQiDhU",
        "colab_type": "text"
      },
      "source": [
        "### <b>데이터 전처리"
      ]
    },
    {
      "cell_type": "markdown",
      "metadata": {
        "id": "OZhDUhESiG9t",
        "colab_type": "text"
      },
      "source": [
        "X"
      ]
    },
    {
      "cell_type": "code",
      "metadata": {
        "id": "DcerbuENiC2z",
        "colab_type": "code",
        "colab": {}
      },
      "source": [
        "# game_id 개수만큼의 index를 가진 DataFrame X 생성\n",
        "n = train.game_id.max()+1\n",
        "X = pd.DataFrame(index=range(n))\n",
        "\n",
        "# time 변수\n",
        "X['time'] = train.drop_duplicates(['game_id'],keep='last').time.reset_index(drop=True)\n",
        "X['time'] = (X.time*100//100*60 + X.time*100%100).astype(int)\n",
        "\n",
        "# species 더미 변수\n",
        "X = pd.concat([pd.get_dummies(train[train.player == 0].drop_duplicates(['game_id']).set_index(['game_id']).species).rename(columns={'P':'0_protoss','T':'0_terran','Z':'0_zerg'}),\n",
        "               pd.get_dummies(train[train.player == 1].drop_duplicates(['game_id']).set_index(['game_id']).species).rename(columns={'P':'1_protoss','T':'1_terran','Z':'1_zerg'}),\n",
        "               X],axis=1)\n",
        "\n",
        "# event 카운트\n",
        "contents = train.loc[:,['player','game_id','time']].groupby(['player', 'game_id']).count().unstack(level=0)\n",
        "contents.columns = ['0_event', '1_event']\n",
        "X['0_event'], X['1_event'] = contents['0_event'], contents['1_event']\n",
        "\n",
        "# event 카운트 / time\n",
        "X['0_event_per_sec'], X['1_event_per_sec'] = X['0_event'] /X.time, X['1_event'] /X.time\n",
        "\n",
        "# event == Ability, AddToControlGroup, Camera, ControlGroup, GetControlGroup, Right Click, Selection, SetControlGroup일 때 각각 카운트\n",
        "contents = train.loc[:,['player','event','game_id','time']].groupby(['player', 'event', 'game_id']).count().unstack(level=[0,1]).fillna(0).astype(int)\n",
        "contents.columns = ['0_'+x for x in sorted(train.event.unique())] + ['1_'+x for x in sorted(train.event.unique())]\n",
        "for i in contents.columns:\n",
        "  X[i] = contents[i]\n",
        "\n",
        "# event == Camera일 때 event_contents의 2차원 좌표 간 euclidean distance sum, min, median, max\n",
        "def move_sum(i):\n",
        "  return sum(np.sqrt(np.diff(i.map(lambda x: x[4:x.find(',')]).astype(float)) **2 +\n",
        "                     np.diff(i.map(lambda x: x[x.find(',')+2:len(x)-1]).astype(float)) **2))\n",
        "def move_min(i):\n",
        "  if len(i) == 1:\n",
        "    return 0\n",
        "  return min(np.sqrt(np.diff(i.map(lambda x: x[4:x.find(',')]).astype(float)) **2 +\n",
        "                     np.diff(i.map(lambda x: x[x.find(',')+2:len(x)-1]).astype(float)) **2))\n",
        "def move_median(i):\n",
        "  if len(i) == 1:\n",
        "    return 0\n",
        "  return np.median(np.sqrt(np.diff(i.map(lambda x: x[4:x.find(',')]).astype(float)) **2 + \n",
        "                        np.diff(i.map(lambda x: x[x.find(',')+2:len(x)-1]).astype(float)) **2))\n",
        "def move_max(i):\n",
        "  if len(i) == 1:\n",
        "    return 0\n",
        "  return max(np.sqrt(np.diff(i.map(lambda x: x[4:x.find(',')]).astype(float)) **2 +\n",
        "                     np.diff(i.map(lambda x: x[x.find(',')+2:len(x)-1]).astype(float)) **2))\n",
        "contents = (train[train.event == 'Camera'].loc[:,['player','game_id','event_contents']].\n",
        "            groupby(['player','game_id'])).agg([move_sum,move_min,move_median,move_max]).unstack(level=0)\n",
        "contents.columns = [y+x for x in ['sum','min','median','max'] for y in ['0_move_','1_move_']]\n",
        "for i in contents.columns:\n",
        "  X[i] = contents[i].fillna(0)\n",
        "\n",
        "# 30초 이내 move_sum\n",
        "contents = (train[(train.time < 0.3) & (train.event == 'Camera')].loc[:,['player','game_id','event_contents']].\n",
        "            groupby(['player','game_id'])).agg(move_sum).unstack(level=0)\n",
        "contents.columns = ['0_move_sum_30sec','1_move_sum_30sec']\n",
        "for i in contents.columns:\n",
        "  X[i] = contents[i]\n",
        "\n",
        "# event == Ability일 때 event_contents 더미 변수 생성, 카운트\n",
        "contents = pd.DataFrame(train.event_contents[(train.event == 'Ability')].map(lambda x: x[x.find('(')+1:x.find(')')]))  # event_contents의 16진수 코드만 추출\n",
        "contents['game_id'], contents['player'], contents['count'] = train.game_id, train.player, 1\n",
        "contents_X = pd.DataFrame(columns=[x+y for x in ['0_','1_'] for y in contents.event_contents.unique()])\n",
        "contents = contents.groupby(['player','event_contents','game_id']).count().unstack(level=[0,1])\n",
        "contents.columns = contents.columns.map(lambda x: str(x[1])+'_'+x[2])\n",
        "contents_X = pd.concat([contents_X, contents])\n",
        "for i in contents_X.columns:\n",
        "  X[i] = contents_X[i]\n",
        "  X[i] = X[i].fillna(0).astype(int)\n",
        "\n",
        "# event == Ability일 때 event_contents 더미 변수 생성 / time\n",
        "for i in contents_X.columns:\n",
        "  X[i+'_div_time'] = X[i] /X.time\n",
        "\n",
        "# event == Selection일 때 event_contents 더미 변수 생성, 카운트\n",
        "contents = train[train.event == 'Selection'].event_contents.map(lambda x: re.sub('\\s\\[.....\\]', '', re.sub('\\s\\[......\\]', '', re.sub('\\s\\[.......\\]', '', x))).\n",
        "                                                                replace('[', '').replace(']', '').replace(' ', '').replace('\\'', ''))\n",
        "contents = contents.str.split(',')\n",
        "max_num = max(contents.map(lambda x: len(x)))\n",
        "t = [0 for x in range(max_num)]\n",
        "for i in range(max_num):\n",
        "  t[i] = pd.DataFrame(contents[contents.map(lambda x: len(x) > i)].map(lambda x: x[i]))\n",
        "contents = pd.concat([t[i] for i in range(max_num)])\n",
        "contents['game_id'], contents['player'], contents['count'] = train.game_id, train.player, 1\n",
        "contents_X = pd.DataFrame(columns=[x+y for x in ['0_','1_'] for y in contents.event_contents.unique()])\n",
        "contents = contents.groupby(['player','event_contents','game_id']).count().unstack(level=[0,1])\n",
        "contents.columns = contents.columns.map(lambda x: str(x[1])+'_'+x[2])\n",
        "contents_X = pd.concat([contents_X, contents])\n",
        "for i in contents_X.columns:\n",
        "  X[i] = contents_X[i]\n",
        "  X[i] = X[i].fillna(0).astype(int)\n",
        "\n",
        "# event == Selection일 때 event_contents 더미 변수 생성 / time\n",
        "for i in contents_X.columns:\n",
        "  X[i+'_div_time'] = X[i] /X.time\n",
        "\n",
        "# 30초 이내 event == Selection일 때 event_contents 더미 변수 생성, 카운트\n",
        "contents = train[(train.time < 0.3) & (train.event == 'Selection')].event_contents.map(lambda x: re.sub('\\s\\[.....\\]', '', re.sub('\\s\\[......\\]', '', re.sub('\\s\\[.......\\]', '', x))).\n",
        "                                                                replace('[', '').replace(']', '').replace(' ', '').replace('\\'', ''))\n",
        "contents = contents.str.split(',')\n",
        "max_num = max(contents.map(lambda x: len(x)))\n",
        "t = [0 for x in range(max_num)]\n",
        "for i in range(max_num):\n",
        "  t[i] = pd.DataFrame(contents[contents.map(lambda x: len(x) > i)].map(lambda x: x[i]))\n",
        "contents = pd.concat([t[i] for i in range(max_num)])\n",
        "contents['game_id'], contents['player'], contents['count'] = train.game_id, train.player, 1\n",
        "contents_X = pd.DataFrame(columns=[x+y for x in ['0_','1_'] for y in contents.event_contents.unique()])\n",
        "contents = contents.groupby(['player','event_contents','game_id']).count().unstack(level=[0,1])\n",
        "contents.columns = contents.columns.map(lambda x: str(x[1])+'_'+x[2])\n",
        "contents_X = pd.concat([contents_X, contents])\n",
        "for i in contents_X.columns:\n",
        "  X[i+'_30sec'] = contents_X[i]\n",
        "  X[i+'_30sec'] = X[i+'_30sec'].fillna(0).astype(int)\n",
        "\n",
        "# event == Right Click일 때 Target 이름 더미 변수 생성, 카운트\n",
        "contents = pd.DataFrame(train.event_contents[(train.event == 'Right Click') & (train.event_contents.map(lambda x: str(x)[:6]) == 'Target')].map(lambda x: x[x.find(':')+2:x.find(' [')]))  # event_contents의 Target만 추출\n",
        "contents['game_id'], contents['player'], contents['count'] = train.game_id, train.player, 1\n",
        "contents_X = pd.DataFrame(columns=[x+y for x in ['0_Target_','1_Target_'] for y in contents.event_contents.unique()])\n",
        "contents = contents.groupby(['player','event_contents','game_id']).count().unstack(level=[0,1])\n",
        "contents.columns = contents.columns.map(lambda x: str(x[1])+'_Target_'+x[2])\n",
        "contents_X = pd.concat([contents_X, contents])\n",
        "for i in contents_X.columns:\n",
        "  X[i] = contents_X[i]\n",
        "  X[i] = X[i].fillna(0).astype(int)\n",
        "\n",
        "# 컬럼 이름 순서로 정렬\n",
        "X = X[sorted(X.columns)]\n",
        "\n",
        "# player 0,1 자리 바꾼 X1생성, X와 행 병합해 데이터 2배로 만들기\n",
        "c = X.shape[1]//2\n",
        "X1 = X.copy()\n",
        "X1.columns = list(X.columns[c:2*c])+list(X.columns[:c])+['time']\n",
        "X1.index = [x+n for x in range(n)]\n",
        "X = pd.concat([X, X1])"
      ],
      "execution_count": 0,
      "outputs": []
    },
    {
      "cell_type": "markdown",
      "metadata": {
        "id": "WlCIU7UPiL1i",
        "colab_type": "text"
      },
      "source": [
        "y"
      ]
    },
    {
      "cell_type": "code",
      "metadata": {
        "id": "l_mqe0COiK0v",
        "colab_type": "code",
        "colab": {}
      },
      "source": [
        "y = train.drop_duplicates(['game_id', 'winner']).winner.reset_index(drop=True)\n",
        "y = y.append(-(y - 1)).reset_index(drop=True)"
      ],
      "execution_count": 0,
      "outputs": []
    },
    {
      "cell_type": "markdown",
      "metadata": {
        "id": "W5sc9eBoiPf2",
        "colab_type": "text"
      },
      "source": [
        "test_X"
      ]
    },
    {
      "cell_type": "code",
      "metadata": {
        "id": "XYcSyiDJiRre",
        "colab_type": "code",
        "colab": {}
      },
      "source": [
        "# game_id 개수만큼의 index를 가진 DataFrame X 생성\n",
        "nn = test.game_id.max()-test.game_id.min()+1\n",
        "test_X = pd.DataFrame(index=[x+n for x in range(nn)])\n",
        "\n",
        "# time 변수\n",
        "test_X['time'] = test.drop_duplicates(['game_id'],keep='last').set_index('game_id').time\n",
        "test_X['time'] = (test_X.time*100//100*60 + test_X.time*100%100).astype(int)\n",
        "\n",
        "# species 더미 변수\n",
        "test_X = pd.concat([pd.get_dummies(test[test.player == 0].drop_duplicates(['game_id']).set_index('game_id').species).rename(columns={'P':'0_protoss','T':'0_terran','Z':'0_zerg'}),\n",
        "                    pd.get_dummies(test[test.player == 1].drop_duplicates(['game_id']).set_index('game_id').species).rename(columns={'P':'1_protoss','T':'1_terran','Z':'1_zerg'}),\n",
        "                    test_X],axis=1)\n",
        "\n",
        "# event 카운트\n",
        "contents = test.loc[:,['player','game_id','time']].groupby(['player', 'game_id']).count().unstack(level=0)\n",
        "contents.columns = ['0_event', '1_event']\n",
        "test_X['0_event'], test_X['1_event'] = contents['0_event'], contents['1_event']\n",
        "\n",
        "# event 카운트 / time\n",
        "test_X['0_event_per_sec'], test_X['1_event_per_sec'] = test_X['0_event'] /test_X.time, test_X['1_event'] /test_X.time\n",
        "\n",
        "# event == Ability, AddToControlGroup, Camera, ControlGroup, GetControlGroup, Right Click, Selection, SetControlGroup일 때 각각 카운트\n",
        "contents = test.loc[:,['player','event','game_id','time']].groupby(['player', 'event', 'game_id']).count().unstack(level=[0,1]).fillna(0).astype(int)\n",
        "contents.columns = ['0_'+x for x in sorted(test.event.unique())] + ['1_'+x for x in sorted(test.event.unique())]\n",
        "for i in contents.columns:\n",
        "  test_X[i] = contents[i]\n",
        "\n",
        "# event == Camera일 때 event_contents의 2차원 좌표 간 euclidean distance sum, min, median, max\n",
        "contents = (test[test.event == 'Camera'].loc[:,['player','game_id','event_contents']].\n",
        "            groupby(['player','game_id'])).agg([move_sum,move_min,move_median,move_max]).unstack(level=0)\n",
        "contents.columns = [y+x for x in ['sum','min','median','max'] for y in ['0_move_','1_move_']]\n",
        "for i in contents.columns:\n",
        "  test_X[i] = contents[i].fillna(0)\n",
        "\n",
        "# 30초 이내 move_sum\n",
        "contents = (test[(test.time < 0.3) & (test.event == 'Camera')].loc[:,['player','game_id','event_contents']].\n",
        "            groupby(['player','game_id'])).agg(move_sum).unstack(level=0)\n",
        "contents.columns = ['0_move_sum_30sec','1_move_sum_30sec']\n",
        "for i in contents.columns:\n",
        "  test_X[i] = contents[i]\n",
        "\n",
        "# event == Ability일 때 event_contents 더미 변수 생성, 카운트\n",
        "contents = pd.DataFrame(test.event_contents[(test.event == 'Ability')].map(lambda x: x[x.find('(')+1:x.find(')')]))  # event_contents의 16진수 코드만 추출\n",
        "contents['game_id'], contents['player'], contents['count'] = test.game_id, test.player, 1\n",
        "contents_X = pd.DataFrame(columns=[x+y for x in ['0_','1_'] for y in contents.event_contents.unique()])\n",
        "contents = contents.groupby(['player','event_contents','game_id']).count().unstack(level=[0,1])\n",
        "contents.columns = contents.columns.map(lambda x: str(x[1])+'_'+x[2])\n",
        "contents_X = pd.concat([contents_X, contents])\n",
        "for i in contents_X.columns:\n",
        "  test_X[i] = contents_X[i]\n",
        "  test_X[i] = test_X[i].fillna(0).astype(int)\n",
        "\n",
        "# event == Ability일 때 event_contents 더미 변수 생성 / time\n",
        "for i in contents_X.columns:\n",
        "  test_X[i+'_div_time'] = test_X[i] /test_X.time\n",
        "\n",
        "# event == Selection일 때 event_contents 더미 변수 생성, 카운트\n",
        "contents = test[test.event == 'Selection'].event_contents.map(lambda x: re.sub('\\s\\[.....\\]', '', re.sub('\\s\\[......\\]', '', re.sub('\\s\\[.......\\]', '', x))).\n",
        "                                                              replace('[', '').replace(']', '').replace(' ', '').replace('\\'', ''))\n",
        "contents = contents.str.split(',')\n",
        "max_num = max(contents.map(lambda x: len(x)))\n",
        "t = [0 for x in range(max_num)]\n",
        "for i in range(max_num):\n",
        "  t[i] = pd.DataFrame(contents[contents.map(lambda x: len(x) > i)].map(lambda x: x[i]))\n",
        "contents = pd.concat([t[i] for i in range(max_num)])\n",
        "contents['game_id'], contents['player'], contents['count'] = test.game_id, test.player, 1\n",
        "contents_X = pd.DataFrame(columns=[x+y for x in ['0_','1_'] for y in contents.event_contents.unique()])\n",
        "contents = contents.groupby(['player','event_contents','game_id']).count().unstack(level=[0,1])\n",
        "contents.columns = contents.columns.map(lambda x: str(x[1])+'_'+x[2])\n",
        "contents_X = pd.concat([contents_X, contents])\n",
        "for i in contents_X.columns:\n",
        "  test_X[i] = contents_X[i]\n",
        "  test_X[i] = test_X[i].fillna(0).astype(int)\n",
        "\n",
        "# event == Selection일 때 event_contents 더미 변수 생성 / time\n",
        "for i in contents_X.columns:\n",
        "  test_X[i+'_div_time'] = test_X[i] /test_X.time\n",
        "\n",
        "# 30초 이내 event == Selection일 때 event_contents 더미 변수 생성, 카운트\n",
        "contents = test[(test.time < 0.3) & (test.event == 'Selection')].event_contents.map(lambda x: re.sub('\\s\\[.....\\]', '', re.sub('\\s\\[......\\]', '', re.sub('\\s\\[.......\\]', '', x))).\n",
        "                                                                replace('[', '').replace(']', '').replace(' ', '').replace('\\'', ''))\n",
        "contents = contents.str.split(',')\n",
        "max_num = max(contents.map(lambda x: len(x)))\n",
        "t = [0 for x in range(max_num)]\n",
        "for i in range(max_num):\n",
        "  t[i] = pd.DataFrame(contents[contents.map(lambda x: len(x) > i)].map(lambda x: x[i]))\n",
        "contents = pd.concat([t[i] for i in range(max_num)])\n",
        "contents['game_id'], contents['player'], contents['count'] = test.game_id, test.player, 1\n",
        "contents_X = pd.DataFrame(columns=[x+y for x in ['0_','1_'] for y in contents.event_contents.unique()])\n",
        "contents = contents.groupby(['player','event_contents','game_id']).count().unstack(level=[0,1])\n",
        "contents.columns = contents.columns.map(lambda x: str(x[1])+'_'+x[2])\n",
        "contents_X = pd.concat([contents_X, contents])\n",
        "for i in contents_X.columns:\n",
        "  test_X[i+'_30sec'] = contents_X[i]\n",
        "  test_X[i+'_30sec'] = test_X[i+'_30sec'].fillna(0).astype(int)\n",
        "\n",
        "# event == Right Click일 때 Target 이름 더미 변수 생성, 카운트\n",
        "contents = pd.DataFrame(test.event_contents[(test.event == 'Right Click') & (test.event_contents.map(lambda x: str(x)[:6]) == 'Target')].map(lambda x: x[x.find(':')+2:x.find(' [')]))  # event_contents의 Target만 추출\n",
        "contents['game_id'], contents['player'], contents['count'] = test.game_id, test.player, 1\n",
        "contents_X = pd.DataFrame(columns=[x+y for x in ['0_Target_','1_Target_'] for y in contents.event_contents.unique()])\n",
        "contents = contents.groupby(['player','event_contents','game_id']).count().unstack(level=[0,1])\n",
        "contents.columns = contents.columns.map(lambda x: str(x[1])+'_Target_'+x[2])\n",
        "contents_X = pd.concat([contents_X, contents])\n",
        "for i in contents_X.columns:\n",
        "  test_X[i] = contents_X[i]\n",
        "  test_X[i] = test_X[i].fillna(0).astype(int)\n",
        "\n",
        "# 컬럼 이름 순서로 정렬\n",
        "test_X = test_X[sorted(test_X.columns)]"
      ],
      "execution_count": 0,
      "outputs": []
    },
    {
      "cell_type": "code",
      "metadata": {
        "id": "A3zOKB4aiYdN",
        "colab_type": "code",
        "colab": {}
      },
      "source": [
        "X.drop(set(X.columns) - set(test_X.columns), axis=1, inplace=True)\n",
        "test_X.drop(set(test_X.columns) - set(X.columns), axis=1, inplace=True)"
      ],
      "execution_count": 0,
      "outputs": []
    },
    {
      "cell_type": "markdown",
      "metadata": {
        "id": "GfuZNnOcibb4",
        "colab_type": "text"
      },
      "source": [
        "### <b>모델 생성, 적용"
      ]
    },
    {
      "cell_type": "markdown",
      "metadata": {
        "id": "aZqZfRCUijdi",
        "colab_type": "text"
      },
      "source": [
        "## depth parameter 깊게 준 모델 \n",
        "random_seed = 2022"
      ]
    },
    {
      "cell_type": "code",
      "metadata": {
        "id": "5CK9mpbeibqc",
        "colab_type": "code",
        "colab": {}
      },
      "source": [
        "test_pred1 = pd.Series([0 for x in range(len(test_X))], index=test_X.index)\n",
        "random_seed = 2022"
      ],
      "execution_count": 0,
      "outputs": []
    },
    {
      "cell_type": "markdown",
      "metadata": {
        "id": "STIZu6tAihMu",
        "colab_type": "text"
      },
      "source": [
        "Catboost - Depthwise \\\n",
        "with random_seed =2022 "
      ]
    },
    {
      "cell_type": "code",
      "metadata": {
        "id": "QjGywwywigaZ",
        "colab_type": "code",
        "colab": {}
      },
      "source": [
        "# 10-fold 모델링을 1회 반복할 것\n",
        "n = 1\n",
        "for i in range(n):\n",
        "\n",
        "  # 10-fold\n",
        "  kf = KFold(n_splits=10, random_state=random_seed+i)\n",
        "  for train_index, valid_index in kf.split(X):\n",
        "    train_X, train_y = X.iloc[train_index], y[train_index]\n",
        "    valid_X, valid_y = X.iloc[valid_index], y[valid_index]\n",
        "\n",
        "    # catBoost\n",
        "    model = CatBoostClassifier(iterations=25000,              # 반복횟수 최대 25000\n",
        "                               learning_rate=0.01564,           # 러닝레이트 자동\n",
        "                               depth=12,                       # 트리 깊이 ~16, 디폴트 6\n",
        "                               l2_leaf_reg= 49.99,               # L2 정규화\n",
        "                               random_seed=random_seed+i,       # 랜덤시드 고정\n",
        "                               eval_metric='AUC',             # AUC로 성능 측정\n",
        "                               metric_period=25000,            # 중간결과 출력\n",
        "                               early_stopping_rounds=1000,    # 1000iteration 동안 AUC 증가 없으면 학습 중단\n",
        "                               grow_policy='Depthwise',   # 트리 생성 방식, SymmetricTree는 wide, 깊이 일정, Lossguide는 deep\n",
        "                               task_type='GPU'                # GPU 사용\n",
        "                               )\n",
        "    model.fit(train_X, train_y, eval_set=(valid_X, valid_y))\n",
        "    \n",
        "    test_pred1 += model.predict_proba(test_X)[:,1] /(2*10*n)"
      ],
      "execution_count": 0,
      "outputs": []
    },
    {
      "cell_type": "markdown",
      "metadata": {
        "id": "OBIQJjDWiqMA",
        "colab_type": "text"
      },
      "source": [
        "Catboost - Lossguide \\\n",
        "with random_seed =2022"
      ]
    },
    {
      "cell_type": "code",
      "metadata": {
        "id": "PtXRvORKixTl",
        "colab_type": "code",
        "colab": {}
      },
      "source": [
        "# 10-fold 모델링을 1회 반복할 것\n",
        "n = 1\n",
        "for i in range(n):\n",
        "\n",
        "  # 10-fold\n",
        "  kf = KFold(n_splits=10, random_state=random_seed+i)\n",
        "  for train_index, valid_index in kf.split(X):\n",
        "    train_X, train_y = X.iloc[train_index], y[train_index]\n",
        "    valid_X, valid_y = X.iloc[valid_index], y[valid_index]\n",
        "\n",
        "    # catBoost\n",
        "    model = CatBoostClassifier(iterations=25000,              # 반복횟수 최대 25000\n",
        "                               learning_rate=0.01213,           # 러닝레이트 자동\n",
        "                               depth=16,                       # 트리 깊이 ~16, 디폴트 6\n",
        "                               l2_leaf_reg= 5.027,               # L2 정규화\n",
        "                               random_seed=random_seed+i,       # 랜덤시드 고정\n",
        "                               eval_metric='AUC',             # AUC로 성능 측정\n",
        "                               metric_period=25000,            # 중간결과 출력\n",
        "                               early_stopping_rounds=1000,    # 1000iteration 동안 AUC 증가 없으면 학습 중단\n",
        "                               grow_policy='Lossguide',   # 트리 생성 방식, SymmetricTree는 wide, 깊이 일정, Lossguide는 deep\n",
        "                               task_type='GPU'                # GPU 사용\n",
        "                               )\n",
        "    model.fit(train_X, train_y, eval_set=(valid_X, valid_y))\n",
        "    \n",
        "    test_pred1 += model.predict_proba(test_X)[:,1] /(2*10*n)"
      ],
      "execution_count": 0,
      "outputs": []
    },
    {
      "cell_type": "code",
      "metadata": {
        "id": "AMfEP-_UmXfM",
        "colab_type": "code",
        "colab": {}
      },
      "source": [
        "sample_submission = pd.read_csv('sample_submission.csv', index_col=0)\n",
        "data1 = pd.DataFrame(data=test_pred1, columns=sample_submission.columns, index=sample_submission.index)"
      ],
      "execution_count": 0,
      "outputs": []
    },
    {
      "cell_type": "markdown",
      "metadata": {
        "id": "eK-VkwQZmkKK",
        "colab_type": "text"
      },
      "source": [
        "## depth parameter 깊게 준 모델 \n",
        "random_seed = 2023"
      ]
    },
    {
      "cell_type": "markdown",
      "metadata": {
        "id": "vFH3Q2Pejw1a",
        "colab_type": "text"
      },
      "source": [
        "Catboost - Depthwise \\\n",
        "with random_seed =2023"
      ]
    },
    {
      "cell_type": "code",
      "metadata": {
        "id": "gde7XG4ekru4",
        "colab_type": "code",
        "colab": {}
      },
      "source": [
        "test_pred2 = pd.Series([0 for x in range(len(test_X))], index=test_X.index)\n",
        "random_seed = 2023"
      ],
      "execution_count": 0,
      "outputs": []
    },
    {
      "cell_type": "code",
      "metadata": {
        "id": "qIzYnQ6gjxlI",
        "colab_type": "code",
        "colab": {}
      },
      "source": [
        "# 10-fold 모델링을 1회 반복할 것\n",
        "n = 1\n",
        "for i in range(n):\n",
        "\n",
        "  # 10-fold\n",
        "  kf = KFold(n_splits=10, random_state=random_seed+i)\n",
        "  for train_index, valid_index in kf.split(X):\n",
        "    train_X, train_y = X.iloc[train_index], y[train_index]\n",
        "    valid_X, valid_y = X.iloc[valid_index], y[valid_index]\n",
        "\n",
        "    # catBoost\n",
        "    model = CatBoostClassifier(iterations=25000,              # 반복횟수 최대 25000\n",
        "                               learning_rate=0.01564,           # 러닝레이트 자동\n",
        "                               depth=12,                       # 트리 깊이 ~16, 디폴트 6\n",
        "                               l2_leaf_reg= 49.99,               # L2 정규화\n",
        "                               random_seed=random_seed+i,       # 랜덤시드 고정\n",
        "                               eval_metric='AUC',             # AUC로 성능 측정\n",
        "                               metric_period=25000,            # 중간결과 출력\n",
        "                               early_stopping_rounds=1000,    # 1000iteration 동안 AUC 증가 없으면 학습 중단\n",
        "                               grow_policy='Depthwise',   # 트리 생성 방식, SymmetricTree는 wide, 깊이 일정, Lossguide는 deep\n",
        "                               task_type='GPU'                # GPU 사용\n",
        "                               )\n",
        "    model.fit(train_X, train_y, eval_set=(valid_X, valid_y))\n",
        "    \n",
        "    test_pred2 += model.predict_proba(test_X)[:,1] /(2*10*n)"
      ],
      "execution_count": 0,
      "outputs": []
    },
    {
      "cell_type": "markdown",
      "metadata": {
        "id": "WDOsMCBijx3X",
        "colab_type": "text"
      },
      "source": [
        "Catboost - Lossguide \\\n",
        "with random_seed =2023"
      ]
    },
    {
      "cell_type": "code",
      "metadata": {
        "id": "9Yrrix6BkkRv",
        "colab_type": "code",
        "colab": {}
      },
      "source": [
        "# 10-fold 모델링을 1회 반복할 것\n",
        "n = 1\n",
        "for i in range(n):\n",
        "\n",
        "  # 10-fold\n",
        "  kf = KFold(n_splits=10, random_state=random_seed+i)\n",
        "  for train_index, valid_index in kf.split(X):\n",
        "    train_X, train_y = X.iloc[train_index], y[train_index]\n",
        "    valid_X, valid_y = X.iloc[valid_index], y[valid_index]\n",
        "\n",
        "    # catBoost\n",
        "    model = CatBoostClassifier(iterations=25000,              # 반복횟수 최대 25000\n",
        "                               learning_rate=0.01213,           # 러닝레이트 자동\n",
        "                               depth=16,                       # 트리 깊이 ~16, 디폴트 6\n",
        "                               l2_leaf_reg= 5.027,               # L2 정규화\n",
        "                               random_seed=random_seed+i,       # 랜덤시드 고정\n",
        "                               eval_metric='AUC',             # AUC로 성능 측정\n",
        "                               metric_period=25000,            # 중간결과 출력\n",
        "                               early_stopping_rounds=1000,    # 1000iteration 동안 AUC 증가 없으면 학습 중단\n",
        "                               grow_policy='Lossguide',   # 트리 생성 방식, SymmetricTree는 wide, 깊이 일정, Lossguide는 deep\n",
        "                               task_type='GPU'                # GPU 사용\n",
        "                               )\n",
        "    model.fit(train_X, train_y, eval_set=(valid_X, valid_y))\n",
        "    \n",
        "    test_pred2 += model.predict_proba(test_X)[:,1] /(2*10*n)"
      ],
      "execution_count": 0,
      "outputs": []
    },
    {
      "cell_type": "code",
      "metadata": {
        "id": "1Tu212FnlvbF",
        "colab_type": "code",
        "colab": {}
      },
      "source": [
        "sample_submission = pd.read_csv('sample_submission.csv', index_col=0)\n",
        "data2 = pd.DataFrame(data=test_pred2, columns=sample_submission.columns, index=sample_submission.index)"
      ],
      "execution_count": 0,
      "outputs": []
    },
    {
      "cell_type": "markdown",
      "metadata": {
        "id": "8XeUiemljJac",
        "colab_type": "text"
      },
      "source": [
        "## depth parameter 얕게 준 모델들 "
      ]
    },
    {
      "cell_type": "code",
      "metadata": {
        "id": "SKm7JFiFjOpg",
        "colab_type": "code",
        "colab": {}
      },
      "source": [
        "test_pred3 = pd.Series([0 for x in range(len(test_X))], index=test_X.index)\n",
        "random_seed = 2014"
      ],
      "execution_count": 0,
      "outputs": []
    },
    {
      "cell_type": "markdown",
      "metadata": {
        "id": "_NUZIxzXjRtB",
        "colab_type": "text"
      },
      "source": [
        "Catboost - Depthwise\n"
      ]
    },
    {
      "cell_type": "code",
      "metadata": {
        "id": "xarYg5Y1jPZ5",
        "colab_type": "code",
        "colab": {}
      },
      "source": [
        "# 10-fold 모델링을 2회 반복할 것\n",
        "n = 2\n",
        "for i in range(n):\n",
        "\n",
        "  # 10-fold\n",
        "  kf = KFold(n_splits=10, random_state=random_seed+i)\n",
        "  for train_index, valid_index in kf.split(X):\n",
        "    train_X, train_y = X.iloc[train_index], y[train_index]\n",
        "    valid_X, valid_y = X.iloc[valid_index], y[valid_index]\n",
        "\n",
        "    # catBoost\n",
        "    model = CatBoostClassifier(iterations=25000,              # 반복횟수 최대 25000\n",
        "                               learning_rate=0.02423,           # 러닝레이트 자동\n",
        "                               depth=10,                       # 트리 깊이 ~16, 디폴트 6\n",
        "                               l2_leaf_reg= 20.35,               # L2 정규화\n",
        "                               random_seed=random_seed+i,       # 랜덤시드 고정\n",
        "                               eval_metric='AUC',             # AUC로 성능 측정\n",
        "                               metric_period=25000,             # 중간결과 출력\n",
        "                               early_stopping_rounds=1000,    # 1000iteration 동안 AUC 증가 없으면 학습 중단\n",
        "                               grow_policy='Depthwise',   # 트리 생성 방식, SymmetricTree는 wide, 깊이 일정, Lossguide는 deep\n",
        "                               task_type='GPU'                # GPU 사용\n",
        "                               )\n",
        "    model.fit(train_X, train_y, eval_set=(valid_X, valid_y))\n",
        "    \n",
        "    test_pred3 += model.predict_proba(test_X)[:,1] /(2*10*n)"
      ],
      "execution_count": 0,
      "outputs": []
    },
    {
      "cell_type": "markdown",
      "metadata": {
        "id": "4lmljaRCjS7j",
        "colab_type": "text"
      },
      "source": [
        "Catboost - Lossguide"
      ]
    },
    {
      "cell_type": "code",
      "metadata": {
        "id": "VO38x4cZjeJs",
        "colab_type": "code",
        "colab": {}
      },
      "source": [
        "# 10-fold 모델링을 2회 반복할 것\n",
        "n = 2\n",
        "for i in range(n):\n",
        "\n",
        "  # 10-fold\n",
        "  kf = KFold(n_splits=10, random_state=random_seed+i)\n",
        "  for train_index, valid_index in kf.split(X):\n",
        "    train_X, train_y = X.iloc[train_index], y[train_index]\n",
        "    valid_X, valid_y = X.iloc[valid_index], y[valid_index]\n",
        "\n",
        "    # catBoost\n",
        "    model = CatBoostClassifier(iterations=25000,              # 반복횟수 최대 25000\n",
        "                               learning_rate=0.01063,           # 러닝레이트 자동\n",
        "                               depth=8,                       # 트리 깊이 ~16, 디폴트 6\n",
        "                               l2_leaf_reg= 5.127,               # L2 정규화\n",
        "                               random_seed=random_seed+i,       # 랜덤시드 고정\n",
        "                               eval_metric='AUC',             # AUC로 성능 측정\n",
        "                               metric_period=25000,            # 중간결과 출력\n",
        "                               early_stopping_rounds=1000,    # 1000iteration 동안 AUC 증가 없으면 학습 중단\n",
        "                               grow_policy='Lossguide',   # 트리 생성 방식, SymmetricTree는 wide, 깊이 일정, Lossguide는 deep\n",
        "                               task_type='GPU'                # GPU 사용\n",
        "                               )\n",
        "    model.fit(train_X, train_y, eval_set=(valid_X, valid_y))\n",
        "    test_pred3 += model.predict_proba(test_X)[:,1] /(2*10*n)"
      ],
      "execution_count": 0,
      "outputs": []
    },
    {
      "cell_type": "code",
      "metadata": {
        "id": "C1FEXg-Fllv3",
        "colab_type": "code",
        "colab": {}
      },
      "source": [
        "sample_submission = pd.read_csv('sample_submission.csv', index_col=0)\n",
        "data3 = pd.DataFrame(data=test_pred3, columns=sample_submission.columns, index=sample_submission.index)"
      ],
      "execution_count": 0,
      "outputs": []
    },
    {
      "cell_type": "markdown",
      "metadata": {
        "id": "j6y2XjHjlMs5",
        "colab_type": "text"
      },
      "source": [
        "### 최종 모델 앙상블 "
      ]
    },
    {
      "cell_type": "code",
      "metadata": {
        "id": "S6U9TCeTm2lX",
        "colab_type": "code",
        "colab": {}
      },
      "source": [
        "data_final = (data1+data2+data3)/3\n",
        "data_final.to_csv(\"최종제출.csv\", index =True)\n",
        "data_final"
      ],
      "execution_count": 0,
      "outputs": []
    }
  ]
}